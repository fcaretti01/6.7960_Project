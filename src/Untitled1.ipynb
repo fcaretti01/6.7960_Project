{
 "cells": [
  {
   "cell_type": "code",
   "execution_count": 284,
   "id": "1b8f4100-905c-4915-a472-fe789570f7f4",
   "metadata": {},
   "outputs": [
    {
     "name": "stderr",
     "output_type": "stream",
     "text": [
      "/home/software/sloan/local/lib/py3.11/tqdm/auto.py:21: TqdmWarning: IProgress not found. Please update jupyter and ipywidgets. See https://ipywidgets.readthedocs.io/en/stable/user_install.html\n",
      "  from .autonotebook import tqdm as notebook_tqdm\n"
     ]
    }
   ],
   "source": [
    "from Transformer import EasyTransformer\n",
    "from Transformer_config import EasyTransformerConfig\n",
    "import torch\n",
    "from dataclasses import dataclass\n",
    "from typing import Optional, Callable\n",
    "from torch.utils.data import Dataset, DataLoader\n",
    "import pickle\n",
    "from tqdm.auto import tqdm\n",
    "import numpy as np\n",
    "import pandas as pd\n",
    "import torch.nn as nn\n",
    "from train import *"
   ]
  },
  {
   "cell_type": "code",
   "execution_count": 16,
   "id": "687e4d96-c991-4861-9c66-132b3e5bac99",
   "metadata": {},
   "outputs": [
    {
     "data": {
      "text/plain": [
       "(1510.3419799804688, 358.103458404541, 1149.1404037475586)"
      ]
     },
     "execution_count": 16,
     "metadata": {},
     "output_type": "execute_result"
    }
   ],
   "source": [
    "import psutil\n",
    "\n",
    "# Get memory information\n",
    "virtual_memory = psutil.virtual_memory()\n",
    "\n",
    "# Convert from bytes to GB\n",
    "total_memory_gb = virtual_memory.total / (1024 ** 3)\n",
    "used_memory_gb = virtual_memory.used / (1024 ** 3)\n",
    "available_memory_gb = virtual_memory.available / (1024 ** 3)\n",
    "\n",
    "total_memory_gb, used_memory_gb, available_memory_gb"
   ]
  },
  {
   "cell_type": "code",
   "execution_count": 247,
   "id": "141030af-78b8-4fb8-bb3f-b77a58e2a4c6",
   "metadata": {
    "scrolled": true
   },
   "outputs": [
    {
     "ename": "NameError",
     "evalue": "name 'EasyTransformerConfig' is not defined",
     "output_type": "error",
     "traceback": [
      "\u001b[0;31m---------------------------------------------------------------------------\u001b[0m",
      "\u001b[0;31mNameError\u001b[0m                                 Traceback (most recent call last)",
      "Cell \u001b[0;32mIn[247], line 1\u001b[0m\n\u001b[0;32m----> 1\u001b[0m cfg \u001b[38;5;241m=\u001b[39m \u001b[43mEasyTransformerConfig\u001b[49m(n_layers \u001b[38;5;241m=\u001b[39m \u001b[38;5;241m3\u001b[39m,\n\u001b[1;32m      2\u001b[0m             d_in \u001b[38;5;241m=\u001b[39m \u001b[38;5;241m5\u001b[39m,\n\u001b[1;32m      3\u001b[0m             d_model \u001b[38;5;241m=\u001b[39m \u001b[38;5;241m20\u001b[39m,\n\u001b[1;32m      4\u001b[0m             n_ctx \u001b[38;5;241m=\u001b[39m \u001b[38;5;241m43\u001b[39m,\n\u001b[1;32m      5\u001b[0m             d_head \u001b[38;5;241m=\u001b[39m \u001b[38;5;241m5\u001b[39m,\n\u001b[1;32m      6\u001b[0m             model_name \u001b[38;5;241m=\u001b[39m \u001b[38;5;124m\"\u001b[39m\u001b[38;5;124mcustom\u001b[39m\u001b[38;5;124m\"\u001b[39m,\n\u001b[1;32m      7\u001b[0m             n_heads \u001b[38;5;241m=\u001b[39m \u001b[38;5;241m4\u001b[39m,\n\u001b[1;32m      8\u001b[0m             d_mlp \u001b[38;5;241m=\u001b[39m \u001b[38;5;241m64\u001b[39m,\n\u001b[1;32m      9\u001b[0m             act_fn \u001b[38;5;241m=\u001b[39m \u001b[38;5;124m'\u001b[39m\u001b[38;5;124mrelu\u001b[39m\u001b[38;5;124m'\u001b[39m,\n\u001b[1;32m     10\u001b[0m             eps \u001b[38;5;241m=\u001b[39m \u001b[38;5;241m1e-5\u001b[39m,\n\u001b[1;32m     11\u001b[0m             use_attn_scale \u001b[38;5;241m=\u001b[39m \u001b[38;5;28;01mTrue\u001b[39;00m, \u001b[38;5;66;03m# whether to explicitly calculate the amount each head adds to the residual stream (with a hook) and THEN add it up, vs just calculating the sum. This can be very memory intensive for large models, so defaults to False\u001b[39;00m\n\u001b[1;32m     12\u001b[0m             init_mode \u001b[38;5;241m=\u001b[39m \u001b[38;5;124m\"\u001b[39m\u001b[38;5;124mgpt2\u001b[39m\u001b[38;5;124m\"\u001b[39m,\n\u001b[1;32m     13\u001b[0m             normalization_type \u001b[38;5;241m=\u001b[39m \u001b[38;5;124m'\u001b[39m\u001b[38;5;124mLN\u001b[39m\u001b[38;5;124m'\u001b[39m,\n\u001b[1;32m     14\u001b[0m             device \u001b[38;5;241m=\u001b[39m \u001b[38;5;124m\"\u001b[39m\u001b[38;5;124mcuda\u001b[39m\u001b[38;5;124m\"\u001b[39m \u001b[38;5;28;01mif\u001b[39;00m torch\u001b[38;5;241m.\u001b[39mcuda\u001b[38;5;241m.\u001b[39mis_available() \u001b[38;5;28;01melse\u001b[39;00m \u001b[38;5;124m\"\u001b[39m\u001b[38;5;124mcpu\u001b[39m\u001b[38;5;124m\"\u001b[39m,\n\u001b[1;32m     15\u001b[0m             attention_dir \u001b[38;5;241m=\u001b[39m \u001b[38;5;124m\"\u001b[39m\u001b[38;5;124mcausal\u001b[39m\u001b[38;5;124m\"\u001b[39m,\n\u001b[1;32m     16\u001b[0m             seed \u001b[38;5;241m=\u001b[39m \u001b[38;5;241m42\u001b[39m,\n\u001b[1;32m     17\u001b[0m             initializer_range \u001b[38;5;241m=\u001b[39m \u001b[38;5;241m-\u001b[39m\u001b[38;5;241m1.0\u001b[39m, \u001b[38;5;66;03m# This will set: self.initializer_range = 0.8 / np.sqrt(self.d_model)\u001b[39;00m\n\u001b[1;32m     18\u001b[0m             positional_embedding_type \u001b[38;5;241m=\u001b[39m \u001b[38;5;124m\"\u001b[39m\u001b[38;5;124mstandard\u001b[39m\u001b[38;5;124m\"\u001b[39m,\n\u001b[1;32m     19\u001b[0m             d_vocab_out \u001b[38;5;241m=\u001b[39m \u001b[38;5;241m3\u001b[39m\n\u001b[1;32m     20\u001b[0m         ) \u001b[38;5;66;03m# For binary prediction\u001b[39;00m\n\u001b[1;32m     22\u001b[0m model \u001b[38;5;241m=\u001b[39m EasyTransformer(cfg)\n",
      "\u001b[0;31mNameError\u001b[0m: name 'EasyTransformerConfig' is not defined"
     ]
    }
   ],
   "source": [
    "cfg = EasyTransformerConfig(n_layers = 3,\n",
    "            d_in = 5,\n",
    "            d_model = 20,\n",
    "            n_ctx = 43,\n",
    "            d_head = 5,\n",
    "            model_name = \"custom\",\n",
    "            n_heads = 4,\n",
    "            d_mlp = 64,\n",
    "            act_fn = 'relu',\n",
    "            eps = 1e-5,\n",
    "            use_attn_scale = True, # whether to explicitly calculate the amount each head adds to the residual stream (with a hook) and THEN add it up, vs just calculating the sum. This can be very memory intensive for large models, so defaults to False\n",
    "            init_mode = \"gpt2\",\n",
    "            normalization_type = 'LN',\n",
    "            device = \"cuda\" if torch.cuda.is_available() else \"cpu\",\n",
    "            attention_dir = \"causal\",\n",
    "            seed = 42,\n",
    "            initializer_range = -1.0, # This will set: self.initializer_range = 0.8 / np.sqrt(self.d_model)\n",
    "            positional_embedding_type = \"standard\",\n",
    "            d_vocab_out = 3\n",
    "        ) # For binary prediction\n",
    "\n",
    "model = EasyTransformer(cfg)"
   ]
  },
  {
   "cell_type": "code",
   "execution_count": 3,
   "id": "a1c765a1-2c68-4f91-a161-b77a9fec8280",
   "metadata": {},
   "outputs": [
    {
     "name": "stderr",
     "output_type": "stream",
     "text": [
      "/tmp/ipykernel_243676/1313021981.py:2: FutureWarning: You are using `torch.load` with `weights_only=False` (the current default value), which uses the default pickle module implicitly. It is possible to construct malicious pickle data which will execute arbitrary code during unpickling (See https://github.com/pytorch/pytorch/blob/main/SECURITY.md#untrusted-models for more details). In a future release, the default value for `weights_only` will be flipped to `True`. This limits the functions that could be executed during unpickling. Arbitrary objects will no longer be allowed to be loaded via this mode unless they are explicitly allowlisted by the user via `torch.serialization.add_safe_globals`. We recommend you start setting `weights_only=True` for any use case where you don't have full control of the loaded file. Please open an issue on GitHub for any issues related to this experimental feature.\n",
      "  model.load_state_dict(torch.load('../trained_models_DL/model_8000.pt', map_location=torch.device('cpu')))\n"
     ]
    },
    {
     "data": {
      "text/plain": [
       "<All keys matched successfully>"
      ]
     },
     "execution_count": 3,
     "metadata": {},
     "output_type": "execute_result"
    }
   ],
   "source": [
    "# Load the model's state dict onto CPU\n",
    "model.load_state_dict(torch.load('../trained_models_DL/model_8000.pt', map_location=torch.device('cpu')))"
   ]
  },
  {
   "cell_type": "code",
   "execution_count": null,
   "id": "4375bf64-c449-42e6-a0be-73c9625d54cc",
   "metadata": {},
   "outputs": [],
   "source": [
    "with open('../data/test_DL.pkl', 'rb') as file:\n",
    "    test = pickle.load(file)"
   ]
  },
  {
   "cell_type": "code",
   "execution_count": null,
   "id": "8f867de2-e46c-4775-904b-eba3c99d5f8f",
   "metadata": {},
   "outputs": [],
   "source": [
    "test = test.iloc[-2500000:]"
   ]
  },
  {
   "cell_type": "code",
   "execution_count": null,
   "id": "b87216b8-d5c3-4d1b-9421-06739a122ef9",
   "metadata": {},
   "outputs": [],
   "source": [
    "num_features = 5\n",
    "time_steps = 43\n",
    "\n",
    "feature_cols = ['log_rets', 'high', 'low', '42_vol', 'volume']\n",
    "lagged_feature_cols = [f\"L_{lag}_{feat}\" for lag in range(time_steps-1, 0, -1) for feat in feature_cols]\n",
    "response_vars = [f'L_{l}_label' for l in range(42, 0, -1)] + ['label']"
   ]
  },
  {
   "cell_type": "code",
   "execution_count": null,
   "id": "e8fd611d-dbe1-4a21-875b-055ff9a87b96",
   "metadata": {},
   "outputs": [],
   "source": [
    "test_dataset = StockDataset(test, lagged_feature_cols, feature_cols, response_vars)\n",
    "\n",
    "dataloader = DataLoader(test_dataset, batch_size=2048, shuffle=True, collate_fn=collate_fn)"
   ]
  },
  {
   "cell_type": "code",
   "execution_count": null,
   "id": "7e17b5b1-32f4-4619-a775-d658e50edf65",
   "metadata": {},
   "outputs": [],
   "source": [
    "criterion = nn.CrossEntropyLoss()\n",
    "losses = 0\n",
    "\n",
    "for i, batch in tqdm(enumerate(dataloader), total=len(test_dataset)//2048):\n",
    "    inputs, targets = batch\n",
    "    model.eval()\n",
    "    outputs = model(inputs, return_type='logits')\n",
    "    loss = criterion(outputs.view(-1, 3), targets.view(-1))\n",
    "    losses += loss"
   ]
  },
  {
   "cell_type": "code",
   "execution_count": 13,
   "id": "88177cae-1276-4896-8177-8304c656bedf",
   "metadata": {},
   "outputs": [
    {
     "data": {
      "text/plain": [
       "106"
      ]
     },
     "execution_count": 13,
     "metadata": {},
     "output_type": "execute_result"
    }
   ],
   "source": [
    "i"
   ]
  },
  {
   "cell_type": "code",
   "execution_count": 14,
   "id": "c312bdfe-6a8b-440f-be51-106db3effb7d",
   "metadata": {},
   "outputs": [
    {
     "data": {
      "text/plain": [
       "tensor(0.9195, grad_fn=<DivBackward0>)"
      ]
     },
     "execution_count": 14,
     "metadata": {},
     "output_type": "execute_result"
    }
   ],
   "source": [
    "losses/i"
   ]
  },
  {
   "cell_type": "code",
   "execution_count": null,
   "id": "3230368f-76bd-4fd7-850d-6623a17dd363",
   "metadata": {},
   "outputs": [],
   "source": []
  }
 ],
 "metadata": {
  "kernelspec": {
   "display_name": "Python 3 (ipykernel)",
   "language": "python",
   "name": "python3"
  },
  "language_info": {
   "codemirror_mode": {
    "name": "ipython",
    "version": 3
   },
   "file_extension": ".py",
   "mimetype": "text/x-python",
   "name": "python",
   "nbconvert_exporter": "python",
   "pygments_lexer": "ipython3",
   "version": "3.11.4"
  }
 },
 "nbformat": 4,
 "nbformat_minor": 5
}
